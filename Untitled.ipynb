{
 "cells": [
  {
   "cell_type": "code",
   "execution_count": null,
   "metadata": {},
   "outputs": [
    {
     "name": "stdout",
     "output_type": "stream",
     "text": [
      "Bem Vindo ao Programa da Loja de Tintas 3.0\n",
      "Suas opções são:\n",
      "\n",
      "1) Calcular a área a ser pintada\n",
      "2) Preços dos produtos\n",
      "3) Calcular os preços por área a ser pintada\n",
      "4) Sair do programa\n",
      "\n"
     ]
    },
    {
     "name": "stdin",
     "output_type": "stream",
     "text": [
      "Escolha sua opção:  1\n",
      "Tamanho em metros quadrados (m²) da área a ser pintada:  2.0\n"
     ]
    },
    {
     "name": "stdout",
     "output_type": "stream",
     "text": [
      "Suas opções são:\n",
      "\n",
      "1) Calcular a área a ser pintada\n",
      "2) Preços dos produtos\n",
      "3) Calcular os preços por área a ser pintada\n",
      "4) Sair do programa\n",
      "\n"
     ]
    },
    {
     "name": "stdin",
     "output_type": "stream",
     "text": [
      "Escolha sua opção:  3\n",
      "Para comprar apenas latas de 18 litros digite 1\n",
      "Para comprar apenas galões de 3,6 litros digite 2\n",
      "Para misturar latas e galões, de forma que o preço seja o menor digite 3\n",
      "Digite o a opção desejada:  1\n"
     ]
    },
    {
     "name": "stdout",
     "output_type": "stream",
     "text": [
      "\n",
      "Você precisará de 1 litros de tinta, 1 latas e pagará R$ 80\n",
      "\n",
      "\n",
      "Suas opções são:\n",
      "\n",
      "1) Calcular a área a ser pintada\n",
      "2) Preços dos produtos\n",
      "3) Calcular os preços por área a ser pintada\n",
      "4) Sair do programa\n",
      "\n"
     ]
    }
   ],
   "source": [
    "#!/usr/bin/env python3\n",
    "# -*- coding: utf-8 -*-\n",
    "# Módulos\n",
    "import math\n",
    "\n",
    "\n",
    "# Funções\n",
    "def func(situacoes):\n",
    "    situacoes = eval(input(\"\"\"Para comprar apenas latas de 18 litros digite 1\n",
    "Para comprar apenas galões de 3,6 litros digite 2\n",
    "Para misturar latas e galões, de forma que o preço seja o menor digite 3\n",
    "Digite o a opção desejada: \"\"\"))\n",
    "    while not 1 <= situacoes <= 3:\n",
    "        situacoes = eval(input(\"Digite um opção de 1 à 3: \"))\n",
    "    if situacoes == 1:\n",
    "        print()\n",
    "        print(\"Você precisará de %d litros de tinta, %d latas e pagará R$ %d\" % (litrosf, latas, preco_latas))\n",
    "        print()\n",
    "    elif situacoes == 2:\n",
    "        print()\n",
    "        print(\"Você precisará de %d litros de tinta, %d galoes e pagará R$ %d\" % (litrosf, galoes, preco_galoes))\n",
    "        print()\n",
    "    elif situacoes == 3:\n",
    "        a1 = int(litrosf / 18)\n",
    "        a2 = litrosf % 18\n",
    "        a3 = math.ceil(a2 / 3.6)\n",
    "        a4 = ((a1 * 80) + (a3 * 25))\n",
    "        print(\"Você de %d litros de tinta, %d latas, %d galões e pagará R$ %d\" % (litrosf, a1, a3, a4))\n",
    "    else:\n",
    "        return situacoes\n",
    "    print()\n",
    "\n",
    "\n",
    "def menu(a):\n",
    "    print(\"Suas opções são:\")\n",
    "    print(\"\")\n",
    "    print(\"1) Calcular a área a ser pintada\")\n",
    "    print(\"2) Preços dos produtos\")\n",
    "    print(\"3) Calcular os preços por área a ser pintada\")\n",
    "    print(\"4) Sair do programa\")\n",
    "    print()\n",
    "    opcao = eval(input(\"Escolha sua opção: \"))\n",
    "    while not 1 <= opcao <= 4:\n",
    "        print()\n",
    "        opcao = eval(input(\"Escolha uma opção de 1 a 4: \"))\n",
    "    else:\n",
    "        return opcao\n",
    "\n",
    "\n",
    "def precos(a):\n",
    "    print()\n",
    "    print(\"Temos latas de 18 litros e galões de 3,6 litros\")\n",
    "    print(\"Cada lata custa R$80 e cada galão R$25\")\n",
    "    print()\n",
    "\n",
    "\n",
    "# O Programa realmente começa aqui:\n",
    "print(\"Bem Vindo ao Programa da Loja de Tintas 3.0\")\n",
    "loop = 1\n",
    "choice = 0\n",
    "area = 0\n",
    "while loop:\n",
    "    choice = menu(1)\n",
    "    if choice == 1:\n",
    "        area = eval(input(\"Tamanho em metros quadrados (m²) da área a ser pintada: \"))\n",
    "        litros = float(area / 6)\n",
    "        litrosf = math.ceil(float(litros * 1.1))\n",
    "        latas = math.ceil(float(litrosf) / 18)\n",
    "        galoes = math.ceil(float(litrosf) / float(3.6))\n",
    "        preco_latas = latas * 80.0\n",
    "        preco_galoes = galoes * 25.0\n",
    "        tinta_necessaria = float(area) / 6\n",
    "        lata = 18.0\n",
    "        galao = 3.6\n",
    "        limit = 108\n",
    "        x = area - limit\n",
    "        y = x / 6\n",
    "        y1 = math.ceil(float(y * 1.1))\n",
    "\n",
    "    elif choice == 2:\n",
    "        precos(1)\n",
    "    elif choice == 3:\n",
    "        if area == 0:\n",
    "            print()\n",
    "            print(\"Execulte primeiro a opção 1 [Calcular a área]!\")\n",
    "            print()\n",
    "        else:\n",
    "            func(1)\n",
    "    elif choice == 4:\n",
    "        loop = 0\n",
    "\n",
    "print()\n",
    "print(\"Obrigado por usar o programa!\")"
   ]
  },
  {
   "cell_type": "code",
   "execution_count": null,
   "metadata": {},
   "outputs": [],
   "source": []
  }
 ],
 "metadata": {
  "kernelspec": {
   "display_name": "Python 3",
   "language": "python",
   "name": "python3"
  },
  "language_info": {
   "codemirror_mode": {
    "name": "ipython",
    "version": 3
   },
   "file_extension": ".py",
   "mimetype": "text/x-python",
   "name": "python",
   "nbconvert_exporter": "python",
   "pygments_lexer": "ipython3",
   "version": "3.7.3"
  }
 },
 "nbformat": 4,
 "nbformat_minor": 4
}
